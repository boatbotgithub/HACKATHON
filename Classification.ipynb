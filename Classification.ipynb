{
 "cells": [
  {
   "cell_type": "code",
   "execution_count": 173,
   "id": "coordinate-basement",
   "metadata": {},
   "outputs": [],
   "source": [
    "import pandas as pd\n",
    "import numpy as np\n",
    "import matplotlib.pyplot as plt\n",
    "import seaborn as sns\n",
    "from sklearn.preprocessing import LabelEncoder\n",
    "from sklearn.model_selection import train_test_split\n",
    "import statistics as st\n",
    "import plotly.express as px\n",
    "from scipy import stats\n",
    "import datetime as dt"
   ]
  },
  {
   "cell_type": "markdown",
   "id": "measured-credits",
   "metadata": {},
   "source": [
    "# Load Data"
   ]
  },
  {
   "cell_type": "code",
   "execution_count": 174,
   "id": "shared-desire",
   "metadata": {},
   "outputs": [],
   "source": [
    "df = pd.read_csv(r'C:\\Users\\Nakkarin Tepin\\Documents\\CodePython\\HACKATHON\\data.csv')"
   ]
  },
  {
   "cell_type": "markdown",
   "id": "considered-throat",
   "metadata": {},
   "source": [
    "# Set Option"
   ]
  },
  {
   "cell_type": "code",
   "execution_count": 175,
   "id": "polar-initial",
   "metadata": {},
   "outputs": [],
   "source": [
    "pd.set_option('display.max_columns', None)\n",
    "pd.set_option('display.max_rows', None)"
   ]
  },
  {
   "cell_type": "code",
   "execution_count": 176,
   "id": "biblical-fellowship",
   "metadata": {
    "scrolled": true
   },
   "outputs": [
    {
     "data": {
      "text/html": [
       "<div>\n",
       "<style scoped>\n",
       "    .dataframe tbody tr th:only-of-type {\n",
       "        vertical-align: middle;\n",
       "    }\n",
       "\n",
       "    .dataframe tbody tr th {\n",
       "        vertical-align: top;\n",
       "    }\n",
       "\n",
       "    .dataframe thead th {\n",
       "        text-align: right;\n",
       "    }\n",
       "</style>\n",
       "<table border=\"1\" class=\"dataframe\">\n",
       "  <thead>\n",
       "    <tr style=\"text-align: right;\">\n",
       "      <th></th>\n",
       "      <th>Unnamed: 0</th>\n",
       "      <th>HN</th>\n",
       "      <th>Gender</th>\n",
       "      <th>Nationality</th>\n",
       "      <th>Nation_ID</th>\n",
       "      <th>Province</th>\n",
       "      <th>City</th>\n",
       "      <th>business_unit</th>\n",
       "      <th>Type</th>\n",
       "      <th>admission_date</th>\n",
       "      <th>medication</th>\n",
       "      <th>diagnosis</th>\n",
       "      <th>age</th>\n",
       "      <th>gen_1</th>\n",
       "      <th>gen_2</th>\n",
       "      <th>gen_3</th>\n",
       "      <th>gen_4</th>\n",
       "      <th>gen_5</th>\n",
       "    </tr>\n",
       "  </thead>\n",
       "  <tbody>\n",
       "    <tr>\n",
       "      <th>0</th>\n",
       "      <td>0</td>\n",
       "      <td>22ab991676308eef860ea41dcd16b27e</td>\n",
       "      <td>หญิง (Female)</td>\n",
       "      <td>THAI</td>\n",
       "      <td>c2d8d1c425be582a41c371a57265c1fa</td>\n",
       "      <td>เชียงใหม่</td>\n",
       "      <td>หางดง</td>\n",
       "      <td>36</td>\n",
       "      <td>OPD</td>\n",
       "      <td>2018-01-05</td>\n",
       "      <td>['brompheniramine maleate~phenylephrine hydroc...</td>\n",
       "      <td>Acute pharyngitis</td>\n",
       "      <td>31</td>\n",
       "      <td>0</td>\n",
       "      <td>0</td>\n",
       "      <td>1</td>\n",
       "      <td>0</td>\n",
       "      <td>0</td>\n",
       "    </tr>\n",
       "    <tr>\n",
       "      <th>1</th>\n",
       "      <td>1</td>\n",
       "      <td>caffc028ca0671b89e1a146e76445e26</td>\n",
       "      <td>หญิง (Female)</td>\n",
       "      <td>THAI</td>\n",
       "      <td>NaN</td>\n",
       "      <td>สมุทรปราการ</td>\n",
       "      <td>บางพลี</td>\n",
       "      <td>12</td>\n",
       "      <td>OPD</td>\n",
       "      <td>2016-02-02</td>\n",
       "      <td>['Saccharomyces boulardii', 'Simethicone (Air-...</td>\n",
       "      <td>Noninfective gastroenteritis and colitis</td>\n",
       "      <td>9</td>\n",
       "      <td>1</td>\n",
       "      <td>0</td>\n",
       "      <td>0</td>\n",
       "      <td>0</td>\n",
       "      <td>0</td>\n",
       "    </tr>\n",
       "    <tr>\n",
       "      <th>2</th>\n",
       "      <td>2</td>\n",
       "      <td>0f849bc7d5a46e42d463d9546f77a8d9</td>\n",
       "      <td>ชาย (Male)</td>\n",
       "      <td>THAI</td>\n",
       "      <td>c508f05e005daa59f561195246f56bd9</td>\n",
       "      <td>กรุงเทพมหานคร</td>\n",
       "      <td>ดินแดง</td>\n",
       "      <td>1</td>\n",
       "      <td>OPD</td>\n",
       "      <td>2017-06-25</td>\n",
       "      <td>['moxifloxacin hydrochloride']</td>\n",
       "      <td>Acute conjunctivitis</td>\n",
       "      <td>31</td>\n",
       "      <td>0</td>\n",
       "      <td>0</td>\n",
       "      <td>1</td>\n",
       "      <td>0</td>\n",
       "      <td>0</td>\n",
       "    </tr>\n",
       "    <tr>\n",
       "      <th>3</th>\n",
       "      <td>3</td>\n",
       "      <td>3c4bf7591b33021bbe22f4f84778408c</td>\n",
       "      <td>หญิง (Female)</td>\n",
       "      <td>THAI</td>\n",
       "      <td>d41d8cd98f00b204e9800998ecf8427e</td>\n",
       "      <td>กรุงเทพมหานคร</td>\n",
       "      <td>ห้วยขวาง</td>\n",
       "      <td>1</td>\n",
       "      <td>OPD</td>\n",
       "      <td>2009-11-22</td>\n",
       "      <td>['oxytetracycline hydrochloride~polymyxin B su...</td>\n",
       "      <td>Superficial injury of lip</td>\n",
       "      <td>13</td>\n",
       "      <td>1</td>\n",
       "      <td>0</td>\n",
       "      <td>0</td>\n",
       "      <td>0</td>\n",
       "      <td>0</td>\n",
       "    </tr>\n",
       "    <tr>\n",
       "      <th>4</th>\n",
       "      <td>4</td>\n",
       "      <td>fabfe07e46c3c130d93be8c42c2413c3</td>\n",
       "      <td>หญิง (Female)</td>\n",
       "      <td>THAI</td>\n",
       "      <td>fe9ed84d5fb4f8a89c6e23562ef859a5</td>\n",
       "      <td>สมุทรปราการ</td>\n",
       "      <td>บางพลี</td>\n",
       "      <td>12</td>\n",
       "      <td>OPD</td>\n",
       "      <td>2016-02-03</td>\n",
       "      <td>['Cetirizine (Zyrtec)', 'Azithromycin (Zithrom...</td>\n",
       "      <td>Acute nasopharyngitis [common cold</td>\n",
       "      <td>38</td>\n",
       "      <td>0</td>\n",
       "      <td>0</td>\n",
       "      <td>1</td>\n",
       "      <td>0</td>\n",
       "      <td>0</td>\n",
       "    </tr>\n",
       "  </tbody>\n",
       "</table>\n",
       "</div>"
      ],
      "text/plain": [
       "   Unnamed: 0                                HN         Gender Nationality  \\\n",
       "0           0  22ab991676308eef860ea41dcd16b27e  หญิง (Female)       THAI    \n",
       "1           1  caffc028ca0671b89e1a146e76445e26  หญิง (Female)       THAI    \n",
       "2           2  0f849bc7d5a46e42d463d9546f77a8d9     ชาย (Male)       THAI    \n",
       "3           3  3c4bf7591b33021bbe22f4f84778408c  หญิง (Female)       THAI    \n",
       "4           4  fabfe07e46c3c130d93be8c42c2413c3  หญิง (Female)       THAI    \n",
       "\n",
       "                          Nation_ID       Province      City  business_unit  \\\n",
       "0  c2d8d1c425be582a41c371a57265c1fa      เชียงใหม่     หางดง             36   \n",
       "1                               NaN    สมุทรปราการ    บางพลี             12   \n",
       "2  c508f05e005daa59f561195246f56bd9  กรุงเทพมหานคร    ดินแดง              1   \n",
       "3  d41d8cd98f00b204e9800998ecf8427e  กรุงเทพมหานคร  ห้วยขวาง              1   \n",
       "4  fe9ed84d5fb4f8a89c6e23562ef859a5    สมุทรปราการ    บางพลี             12   \n",
       "\n",
       "  Type admission_date                                         medication  \\\n",
       "0  OPD     2018-01-05  ['brompheniramine maleate~phenylephrine hydroc...   \n",
       "1  OPD     2016-02-02  ['Saccharomyces boulardii', 'Simethicone (Air-...   \n",
       "2  OPD     2017-06-25                     ['moxifloxacin hydrochloride']   \n",
       "3  OPD     2009-11-22  ['oxytetracycline hydrochloride~polymyxin B su...   \n",
       "4  OPD     2016-02-03  ['Cetirizine (Zyrtec)', 'Azithromycin (Zithrom...   \n",
       "\n",
       "                                  diagnosis  age  gen_1  gen_2  gen_3  gen_4  \\\n",
       "0                         Acute pharyngitis   31      0      0      1      0   \n",
       "1  Noninfective gastroenteritis and colitis    9      1      0      0      0   \n",
       "2                      Acute conjunctivitis   31      0      0      1      0   \n",
       "3                 Superficial injury of lip   13      1      0      0      0   \n",
       "4        Acute nasopharyngitis [common cold   38      0      0      1      0   \n",
       "\n",
       "   gen_5  \n",
       "0      0  \n",
       "1      0  \n",
       "2      0  \n",
       "3      0  \n",
       "4      0  "
      ]
     },
     "execution_count": 176,
     "metadata": {},
     "output_type": "execute_result"
    }
   ],
   "source": [
    "df.head()"
   ]
  },
  {
   "cell_type": "markdown",
   "id": "expanded-cloud",
   "metadata": {},
   "source": [
    "# Drop Data บางอย่างที่ไม่จำเป็นออกไป"
   ]
  },
  {
   "cell_type": "code",
   "execution_count": 177,
   "id": "finished-cosmetic",
   "metadata": {},
   "outputs": [],
   "source": [
    "df.drop(['gen_1','gen_2','gen_3','gen_4','gen_5'], inplace=True, axis = 1)"
   ]
  },
  {
   "cell_type": "code",
   "execution_count": 178,
   "id": "excess-administrator",
   "metadata": {},
   "outputs": [],
   "source": [
    "df.drop(['HN', 'Nation_ID','admission_date', 'medication', 'Unnamed: 0', 'Nationality'], inplace=True, axis = 1)"
   ]
  },
  {
   "cell_type": "code",
   "execution_count": 179,
   "id": "endless-monkey",
   "metadata": {},
   "outputs": [
    {
     "data": {
      "text/plain": [
       "Index(['Gender', 'Province', 'City', 'business_unit', 'Type', 'diagnosis',\n",
       "       'age'],\n",
       "      dtype='object')"
      ]
     },
     "execution_count": 179,
     "metadata": {},
     "output_type": "execute_result"
    }
   ],
   "source": [
    "df.columns"
   ]
  },
  {
   "cell_type": "markdown",
   "id": "distant-hamilton",
   "metadata": {},
   "source": [
    "# ตัวสอบค่า Missing"
   ]
  },
  {
   "cell_type": "code",
   "execution_count": 180,
   "id": "english-broadcast",
   "metadata": {},
   "outputs": [
    {
     "data": {
      "text/plain": [
       "Gender             0\n",
       "Province         191\n",
       "City             164\n",
       "business_unit      0\n",
       "Type               0\n",
       "diagnosis         14\n",
       "age                0\n",
       "dtype: int64"
      ]
     },
     "execution_count": 180,
     "metadata": {},
     "output_type": "execute_result"
    }
   ],
   "source": [
    "df.isnull().sum()"
   ]
  },
  {
   "cell_type": "code",
   "execution_count": 181,
   "id": "eligible-truth",
   "metadata": {},
   "outputs": [
    {
     "name": "stdout",
     "output_type": "stream",
     "text": [
      "<class 'pandas.core.frame.DataFrame'>\n",
      "RangeIndex: 10000 entries, 0 to 9999\n",
      "Data columns (total 7 columns):\n",
      " #   Column         Non-Null Count  Dtype \n",
      "---  ------         --------------  ----- \n",
      " 0   Gender         10000 non-null  object\n",
      " 1   Province       9809 non-null   object\n",
      " 2   City           9836 non-null   object\n",
      " 3   business_unit  10000 non-null  int64 \n",
      " 4   Type           10000 non-null  object\n",
      " 5   diagnosis      9986 non-null   object\n",
      " 6   age            10000 non-null  int64 \n",
      "dtypes: int64(2), object(5)\n",
      "memory usage: 547.0+ KB\n"
     ]
    }
   ],
   "source": [
    "df.info()"
   ]
  },
  {
   "cell_type": "markdown",
   "id": "adverse-buffer",
   "metadata": {},
   "source": [
    "# Plot Data ที่เป็น Missing ออกมาดู"
   ]
  },
  {
   "cell_type": "code",
   "execution_count": 182,
   "id": "deadly-detector",
   "metadata": {},
   "outputs": [
    {
     "data": {
      "text/plain": [
       "<AxesSubplot:>"
      ]
     },
     "execution_count": 182,
     "metadata": {},
     "output_type": "execute_result"
    },
    {
     "data": {
      "image/png": "[encoded data removed]",
      "text/plain": [
       "<Figure size 432x288 with 2 Axes>"
      ]
     },
     "metadata": {},
     "output_type": "display_data"
    }
   ],
   "source": [
    "sns.heatmap(df.isnull(), yticklabels = False, cmap=\"YlGnBu\")"
   ]
  },
  {
   "cell_type": "markdown",
   "id": "yellow-while",
   "metadata": {},
   "source": [
    "# ลบหรือเเทนที่ ค่าที่เป็น Missing"
   ]
  },
  {
   "cell_type": "code",
   "execution_count": 183,
   "id": "reported-miniature",
   "metadata": {},
   "outputs": [],
   "source": [
    "for col in df:\n",
    "    df[col] = df[col].fillna(st.mode(df[col].dropna()))"
   ]
  },
  {
   "cell_type": "code",
   "execution_count": 184,
   "id": "reserved-classification",
   "metadata": {},
   "outputs": [
    {
     "data": {
      "text/plain": [
       "Gender           0\n",
       "Province         0\n",
       "City             0\n",
       "business_unit    0\n",
       "Type             0\n",
       "diagnosis        0\n",
       "age              0\n",
       "dtype: int64"
      ]
     },
     "execution_count": 184,
     "metadata": {},
     "output_type": "execute_result"
    }
   ],
   "source": [
    "df.isnull().sum()"
   ]
  },
  {
   "cell_type": "code",
   "execution_count": 185,
   "id": "stainless-massage",
   "metadata": {},
   "outputs": [
    {
     "data": {
      "text/html": [
       "<div>\n",
       "<style scoped>\n",
       "    .dataframe tbody tr th:only-of-type {\n",
       "        vertical-align: middle;\n",
       "    }\n",
       "\n",
       "    .dataframe tbody tr th {\n",
       "        vertical-align: top;\n",
       "    }\n",
       "\n",
       "    .dataframe thead th {\n",
       "        text-align: right;\n",
       "    }\n",
       "</style>\n",
       "<table border=\"1\" class=\"dataframe\">\n",
       "  <thead>\n",
       "    <tr style=\"text-align: right;\">\n",
       "      <th></th>\n",
       "      <th>Gender</th>\n",
       "      <th>Province</th>\n",
       "      <th>City</th>\n",
       "      <th>business_unit</th>\n",
       "      <th>Type</th>\n",
       "      <th>diagnosis</th>\n",
       "      <th>age</th>\n",
       "    </tr>\n",
       "  </thead>\n",
       "  <tbody>\n",
       "    <tr>\n",
       "      <th>0</th>\n",
       "      <td>หญิง (Female)</td>\n",
       "      <td>เชียงใหม่</td>\n",
       "      <td>หางดง</td>\n",
       "      <td>36</td>\n",
       "      <td>OPD</td>\n",
       "      <td>Acute pharyngitis</td>\n",
       "      <td>31</td>\n",
       "    </tr>\n",
       "    <tr>\n",
       "      <th>1</th>\n",
       "      <td>หญิง (Female)</td>\n",
       "      <td>สมุทรปราการ</td>\n",
       "      <td>บางพลี</td>\n",
       "      <td>12</td>\n",
       "      <td>OPD</td>\n",
       "      <td>Noninfective gastroenteritis and colitis</td>\n",
       "      <td>9</td>\n",
       "    </tr>\n",
       "    <tr>\n",
       "      <th>2</th>\n",
       "      <td>ชาย (Male)</td>\n",
       "      <td>กรุงเทพมหานคร</td>\n",
       "      <td>ดินแดง</td>\n",
       "      <td>1</td>\n",
       "      <td>OPD</td>\n",
       "      <td>Acute conjunctivitis</td>\n",
       "      <td>31</td>\n",
       "    </tr>\n",
       "    <tr>\n",
       "      <th>3</th>\n",
       "      <td>หญิง (Female)</td>\n",
       "      <td>กรุงเทพมหานคร</td>\n",
       "      <td>ห้วยขวาง</td>\n",
       "      <td>1</td>\n",
       "      <td>OPD</td>\n",
       "      <td>Superficial injury of lip</td>\n",
       "      <td>13</td>\n",
       "    </tr>\n",
       "    <tr>\n",
       "      <th>4</th>\n",
       "      <td>หญิง (Female)</td>\n",
       "      <td>สมุทรปราการ</td>\n",
       "      <td>บางพลี</td>\n",
       "      <td>12</td>\n",
       "      <td>OPD</td>\n",
       "      <td>Acute nasopharyngitis [common cold</td>\n",
       "      <td>38</td>\n",
       "    </tr>\n",
       "  </tbody>\n",
       "</table>\n",
       "</div>"
      ],
      "text/plain": [
       "          Gender       Province      City  business_unit Type  \\\n",
       "0  หญิง (Female)      เชียงใหม่     หางดง             36  OPD   \n",
       "1  หญิง (Female)    สมุทรปราการ    บางพลี             12  OPD   \n",
       "2     ชาย (Male)  กรุงเทพมหานคร    ดินแดง              1  OPD   \n",
       "3  หญิง (Female)  กรุงเทพมหานคร  ห้วยขวาง              1  OPD   \n",
       "4  หญิง (Female)    สมุทรปราการ    บางพลี             12  OPD   \n",
       "\n",
       "                                  diagnosis  age  \n",
       "0                         Acute pharyngitis   31  \n",
       "1  Noninfective gastroenteritis and colitis    9  \n",
       "2                      Acute conjunctivitis   31  \n",
       "3                 Superficial injury of lip   13  \n",
       "4        Acute nasopharyngitis [common cold   38  "
      ]
     },
     "execution_count": 185,
     "metadata": {},
     "output_type": "execute_result"
    }
   ],
   "source": [
    "df.head()"
   ]
  },
  {
   "cell_type": "markdown",
   "id": "floral-romania",
   "metadata": {},
   "source": [
    "# คำนวนหาอายุ เเละ ช่วงอายุ\n",
    "# age นี้คำ นวนมากจากอีก code หนึ่ง"
   ]
  },
  {
   "cell_type": "code",
   "execution_count": 186,
   "id": "separate-democracy",
   "metadata": {},
   "outputs": [],
   "source": [
    "df['gen'] = df['age']"
   ]
  },
  {
   "cell_type": "code",
   "execution_count": 187,
   "id": "quiet-solid",
   "metadata": {},
   "outputs": [],
   "source": [
    "i = 0\n",
    "for cat in df['age']:  \n",
    "    \n",
    "    #วัยเด็ก\n",
    "    if cat <=13:\n",
    "        df.at[i, 'gen'] = 1\n",
    "\n",
    "    #วัยรุ่น\n",
    "    elif cat >=14 and cat <=20:\n",
    "        df.at[i, 'gen'] = 2\n",
    "    \n",
    "    #วัยผู้ใหญ่\n",
    "    elif cat >=21 and cat <=39:\n",
    "        df.at[i, 'gen'] = 3\n",
    "\n",
    "    # วัยกลางคน\n",
    "    elif cat >=40 and cat <=60:\n",
    "        df.at[i, 'gen'] = 4\n",
    " \n",
    "    #วัยสูงอายุ\n",
    "    elif cat > 60:\n",
    "        df.at[i, 'gen'] = 5\n",
    "   \n",
    "    \n",
    "    else:\n",
    "        print('พบข้อผิดพลาด')\n",
    "        \n",
    "    i = i+1"
   ]
  },
  {
   "cell_type": "markdown",
   "id": "material-tobago",
   "metadata": {},
   "source": [
    "# ช่วงอายุ\n",
    "* 1 วัยเด็ก\n",
    "* 2 วัยรุ่น\n",
    "* 3 วัยผู้ใหญ่\n",
    "* 4 วัยกลางคน\n",
    "* 5 วัยสูงอายุ"
   ]
  },
  {
   "cell_type": "code",
   "execution_count": 188,
   "id": "religious-disaster",
   "metadata": {},
   "outputs": [
    {
     "data": {
      "text/html": [
       "<div>\n",
       "<style scoped>\n",
       "    .dataframe tbody tr th:only-of-type {\n",
       "        vertical-align: middle;\n",
       "    }\n",
       "\n",
       "    .dataframe tbody tr th {\n",
       "        vertical-align: top;\n",
       "    }\n",
       "\n",
       "    .dataframe thead th {\n",
       "        text-align: right;\n",
       "    }\n",
       "</style>\n",
       "<table border=\"1\" class=\"dataframe\">\n",
       "  <thead>\n",
       "    <tr style=\"text-align: right;\">\n",
       "      <th></th>\n",
       "      <th>Gender</th>\n",
       "      <th>Province</th>\n",
       "      <th>City</th>\n",
       "      <th>business_unit</th>\n",
       "      <th>Type</th>\n",
       "      <th>diagnosis</th>\n",
       "      <th>age</th>\n",
       "      <th>gen</th>\n",
       "    </tr>\n",
       "  </thead>\n",
       "  <tbody>\n",
       "    <tr>\n",
       "      <th>0</th>\n",
       "      <td>หญิง (Female)</td>\n",
       "      <td>เชียงใหม่</td>\n",
       "      <td>หางดง</td>\n",
       "      <td>36</td>\n",
       "      <td>OPD</td>\n",
       "      <td>Acute pharyngitis</td>\n",
       "      <td>31</td>\n",
       "      <td>3</td>\n",
       "    </tr>\n",
       "    <tr>\n",
       "      <th>1</th>\n",
       "      <td>หญิง (Female)</td>\n",
       "      <td>สมุทรปราการ</td>\n",
       "      <td>บางพลี</td>\n",
       "      <td>12</td>\n",
       "      <td>OPD</td>\n",
       "      <td>Noninfective gastroenteritis and colitis</td>\n",
       "      <td>9</td>\n",
       "      <td>1</td>\n",
       "    </tr>\n",
       "    <tr>\n",
       "      <th>2</th>\n",
       "      <td>ชาย (Male)</td>\n",
       "      <td>กรุงเทพมหานคร</td>\n",
       "      <td>ดินแดง</td>\n",
       "      <td>1</td>\n",
       "      <td>OPD</td>\n",
       "      <td>Acute conjunctivitis</td>\n",
       "      <td>31</td>\n",
       "      <td>3</td>\n",
       "    </tr>\n",
       "    <tr>\n",
       "      <th>3</th>\n",
       "      <td>หญิง (Female)</td>\n",
       "      <td>กรุงเทพมหานคร</td>\n",
       "      <td>ห้วยขวาง</td>\n",
       "      <td>1</td>\n",
       "      <td>OPD</td>\n",
       "      <td>Superficial injury of lip</td>\n",
       "      <td>13</td>\n",
       "      <td>1</td>\n",
       "    </tr>\n",
       "    <tr>\n",
       "      <th>4</th>\n",
       "      <td>หญิง (Female)</td>\n",
       "      <td>สมุทรปราการ</td>\n",
       "      <td>บางพลี</td>\n",
       "      <td>12</td>\n",
       "      <td>OPD</td>\n",
       "      <td>Acute nasopharyngitis [common cold</td>\n",
       "      <td>38</td>\n",
       "      <td>3</td>\n",
       "    </tr>\n",
       "  </tbody>\n",
       "</table>\n",
       "</div>"
      ],
      "text/plain": [
       "          Gender       Province      City  business_unit Type  \\\n",
       "0  หญิง (Female)      เชียงใหม่     หางดง             36  OPD   \n",
       "1  หญิง (Female)    สมุทรปราการ    บางพลี             12  OPD   \n",
       "2     ชาย (Male)  กรุงเทพมหานคร    ดินแดง              1  OPD   \n",
       "3  หญิง (Female)  กรุงเทพมหานคร  ห้วยขวาง              1  OPD   \n",
       "4  หญิง (Female)    สมุทรปราการ    บางพลี             12  OPD   \n",
       "\n",
       "                                  diagnosis  age  gen  \n",
       "0                         Acute pharyngitis   31    3  \n",
       "1  Noninfective gastroenteritis and colitis    9    1  \n",
       "2                      Acute conjunctivitis   31    3  \n",
       "3                 Superficial injury of lip   13    1  \n",
       "4        Acute nasopharyngitis [common cold   38    3  "
      ]
     },
     "execution_count": 188,
     "metadata": {},
     "output_type": "execute_result"
    }
   ],
   "source": [
    "df.head()"
   ]
  },
  {
   "cell_type": "markdown",
   "id": "raising-penguin",
   "metadata": {},
   "source": [
    "# ทำหมวดหมู่"
   ]
  },
  {
   "cell_type": "code",
   "execution_count": 189,
   "id": "liquid-permit",
   "metadata": {},
   "outputs": [],
   "source": [
    "datas = df[['Gender', 'Province', 'diagnosis', 'City']].head()"
   ]
  },
  {
   "cell_type": "code",
   "execution_count": 190,
   "id": "small-victor",
   "metadata": {},
   "outputs": [],
   "source": [
    "Gender = df['Gender']\n",
    "Province = df['Province']\n",
    "diagnosis = df['diagnosis']\n",
    "City = df['City']\n",
    "Type = df['Type']"
   ]
  },
  {
   "cell_type": "code",
   "execution_count": 191,
   "id": "proper-insert",
   "metadata": {},
   "outputs": [],
   "source": [
    "cat = []\n",
    "for i in Province:\n",
    "     cat.append(i)\n",
    "        \n",
    "le = LabelEncoder()\n",
    "le.fit(cat)\n",
    "data = le.transform(cat)\n",
    "df['new_Province'] = data\n",
    "df.drop(['Province'], inplace = True, axis = 1)"
   ]
  },
  {
   "cell_type": "code",
   "execution_count": 192,
   "id": "processed-sponsorship",
   "metadata": {},
   "outputs": [],
   "source": [
    "cat = []\n",
    "for i in Gender:\n",
    "     cat.append(i)\n",
    "        \n",
    "le = LabelEncoder()\n",
    "le.fit(cat)\n",
    "data = le.transform(cat)\n",
    "df['new_Gender'] = data\n",
    "df.drop(['Gender'], inplace = True, axis = 1)"
   ]
  },
  {
   "cell_type": "code",
   "execution_count": 193,
   "id": "empty-dispatch",
   "metadata": {},
   "outputs": [],
   "source": [
    "cat = []\n",
    "for i in diagnosis:\n",
    "     cat.append(i)\n",
    "        \n",
    "le = LabelEncoder()\n",
    "le.fit(cat)\n",
    "data = le.transform(cat)\n",
    "df['new_diagnosis'] = data\n",
    "df.drop(['diagnosis'], inplace = True, axis = 1)"
   ]
  },
  {
   "cell_type": "code",
   "execution_count": 194,
   "id": "centered-centre",
   "metadata": {},
   "outputs": [],
   "source": [
    "cat = []\n",
    "for i in City:\n",
    "     cat.append(i)\n",
    "        \n",
    "le = LabelEncoder()\n",
    "le.fit(cat)\n",
    "data = le.transform(cat)\n",
    "df['new_City'] = data\n",
    "df.drop(['City'], inplace = True, axis = 1)"
   ]
  },
  {
   "cell_type": "code",
   "execution_count": 195,
   "id": "fifteen-parameter",
   "metadata": {},
   "outputs": [],
   "source": [
    "cat = []\n",
    "for i in Type:\n",
    "     cat.append(i)\n",
    "        \n",
    "le = LabelEncoder()\n",
    "le.fit(cat)\n",
    "data = le.transform(cat)\n",
    "df['new_Type'] = data\n",
    "df.drop(['Type'], inplace = True, axis = 1)"
   ]
  },
  {
   "cell_type": "code",
   "execution_count": 196,
   "id": "smart-architecture",
   "metadata": {
    "scrolled": true
   },
   "outputs": [
    {
     "data": {
      "text/html": [
       "<div>\n",
       "<style scoped>\n",
       "    .dataframe tbody tr th:only-of-type {\n",
       "        vertical-align: middle;\n",
       "    }\n",
       "\n",
       "    .dataframe tbody tr th {\n",
       "        vertical-align: top;\n",
       "    }\n",
       "\n",
       "    .dataframe thead th {\n",
       "        text-align: right;\n",
       "    }\n",
       "</style>\n",
       "<table border=\"1\" class=\"dataframe\">\n",
       "  <thead>\n",
       "    <tr style=\"text-align: right;\">\n",
       "      <th></th>\n",
       "      <th>business_unit</th>\n",
       "      <th>age</th>\n",
       "      <th>gen</th>\n",
       "      <th>new_Province</th>\n",
       "      <th>new_Gender</th>\n",
       "      <th>new_diagnosis</th>\n",
       "      <th>new_City</th>\n",
       "      <th>new_Type</th>\n",
       "    </tr>\n",
       "  </thead>\n",
       "  <tbody>\n",
       "    <tr>\n",
       "      <th>0</th>\n",
       "      <td>36</td>\n",
       "      <td>31</td>\n",
       "      <td>3</td>\n",
       "      <td>133</td>\n",
       "      <td>1</td>\n",
       "      <td>108</td>\n",
       "      <td>362</td>\n",
       "      <td>1</td>\n",
       "    </tr>\n",
       "    <tr>\n",
       "      <th>1</th>\n",
       "      <td>12</td>\n",
       "      <td>9</td>\n",
       "      <td>1</td>\n",
       "      <td>114</td>\n",
       "      <td>1</td>\n",
       "      <td>1209</td>\n",
       "      <td>182</td>\n",
       "      <td>1</td>\n",
       "    </tr>\n",
       "    <tr>\n",
       "      <th>2</th>\n",
       "      <td>1</td>\n",
       "      <td>31</td>\n",
       "      <td>3</td>\n",
       "      <td>62</td>\n",
       "      <td>0</td>\n",
       "      <td>85</td>\n",
       "      <td>122</td>\n",
       "      <td>1</td>\n",
       "    </tr>\n",
       "    <tr>\n",
       "      <th>3</th>\n",
       "      <td>1</td>\n",
       "      <td>13</td>\n",
       "      <td>1</td>\n",
       "      <td>62</td>\n",
       "      <td>1</td>\n",
       "      <td>1943</td>\n",
       "      <td>364</td>\n",
       "      <td>1</td>\n",
       "    </tr>\n",
       "    <tr>\n",
       "      <th>4</th>\n",
       "      <td>12</td>\n",
       "      <td>38</td>\n",
       "      <td>3</td>\n",
       "      <td>114</td>\n",
       "      <td>1</td>\n",
       "      <td>102</td>\n",
       "      <td>182</td>\n",
       "      <td>1</td>\n",
       "    </tr>\n",
       "  </tbody>\n",
       "</table>\n",
       "</div>"
      ],
      "text/plain": [
       "   business_unit  age  gen  new_Province  new_Gender  new_diagnosis  new_City  \\\n",
       "0             36   31    3           133           1            108       362   \n",
       "1             12    9    1           114           1           1209       182   \n",
       "2              1   31    3            62           0             85       122   \n",
       "3              1   13    1            62           1           1943       364   \n",
       "4             12   38    3           114           1            102       182   \n",
       "\n",
       "   new_Type  \n",
       "0         1  \n",
       "1         1  \n",
       "2         1  \n",
       "3         1  \n",
       "4         1  "
      ]
     },
     "execution_count": 196,
     "metadata": {},
     "output_type": "execute_result"
    }
   ],
   "source": [
    "df.head()"
   ]
  },
  {
   "cell_type": "markdown",
   "id": "stunning-flood",
   "metadata": {},
   "source": [
    "# หาความสัมพันธ์"
   ]
  },
  {
   "cell_type": "code",
   "execution_count": 197,
   "id": "optimum-treat",
   "metadata": {},
   "outputs": [
    {
     "data": {
      "text/plain": [
       "business_unit    1.000000\n",
       "new_Province     0.390765\n",
       "new_City         0.256499\n",
       "new_diagnosis    0.075789\n",
       "new_Gender       0.001282\n",
       "new_Type        -0.037683\n",
       "gen             -0.128324\n",
       "age             -0.128662\n",
       "Name: business_unit, dtype: float64"
      ]
     },
     "execution_count": 197,
     "metadata": {},
     "output_type": "execute_result"
    }
   ],
   "source": [
    "Correlation = df.corr()['business_unit']\n",
    "Correlation[np.argsort(Correlation)[::-1]]"
   ]
  },
  {
   "cell_type": "markdown",
   "id": "suburban-repair",
   "metadata": {},
   "source": [
    "# visualization"
   ]
  },
  {
   "cell_type": "code",
   "execution_count": 198,
   "id": "worst-future",
   "metadata": {},
   "outputs": [
    {
     "data": {
      "text/plain": [
       "<AxesSubplot:xlabel='business_unit', ylabel='count'>"
      ]
     },
     "execution_count": 198,
     "metadata": {},
     "output_type": "execute_result"
    },
    {
     "data": {
      "image/png": "[encoded data removed]",
      "text/plain": [
       "<Figure size 432x288 with 1 Axes>"
      ]
     },
     "metadata": {},
     "output_type": "display_data"
    }
   ],
   "source": [
    "sns.set_style('whitegrid')\n",
    "sns.countplot(x='business_unit', hue='business_unit', data=df)"
   ]
  },
  {
   "cell_type": "code",
   "execution_count": 199,
   "id": "solid-mechanics",
   "metadata": {},
   "outputs": [
    {
     "name": "stderr",
     "output_type": "stream",
     "text": [
      "C:\\Users\\Nakkarin Tepin\\anaconda3\\envs\\TF2\\lib\\site-packages\\seaborn\\distributions.py:2557: FutureWarning:\n",
      "\n",
      "`distplot` is a deprecated function and will be removed in a future version. Please adapt your code to use either `displot` (a figure-level function with similar flexibility) or `histplot` (an axes-level function for histograms).\n",
      "\n"
     ]
    },
    {
     "data": {
      "image/png": "[encoded data removed]",
      "text/plain": [
       "<Figure size 432x288 with 1 Axes>"
      ]
     },
     "metadata": {},
     "output_type": "display_data"
    }
   ],
   "source": [
    "sns.distplot(df[\"age\"],color='r', kde=False);"
   ]
  },
  {
   "cell_type": "code",
   "execution_count": 200,
   "id": "innocent-communist",
   "metadata": {},
   "outputs": [
    {
     "data": {
      "text/plain": [
       "<AxesSubplot:xlabel='gen', ylabel='count'>"
      ]
     },
     "execution_count": 200,
     "metadata": {},
     "output_type": "execute_result"
    },
    {
     "data": {
      "image/png": "[encoded data removed]",
      "text/plain": [
       "<Figure size 432x288 with 1 Axes>"
      ]
     },
     "metadata": {},
     "output_type": "display_data"
    }
   ],
   "source": [
    "sns.set_style('whitegrid')\n",
    "sns.countplot(x='gen', hue='gen', data=df)"
   ]
  },
  {
   "cell_type": "code",
   "execution_count": 201,
   "id": "automatic-disposal",
   "metadata": {
    "scrolled": true
   },
   "outputs": [
    {
     "data": {
      "text/plain": [
       "<AxesSubplot:xlabel='new_Gender', ylabel='count'>"
      ]
     },
     "execution_count": 201,
     "metadata": {},
     "output_type": "execute_result"
    },
    {
     "data": {
      "image/png": "[encoded data removed]",
      "text/plain": [
       "<Figure size 432x288 with 1 Axes>"
      ]
     },
     "metadata": {},
     "output_type": "display_data"
    }
   ],
   "source": [
    "\n",
    "sns.set_style('whitegrid')\n",
    "sns.countplot(x='new_Gender', hue='new_Gender', data=df)"
   ]
  },
  {
   "cell_type": "code",
   "execution_count": 202,
   "id": "lyric-survivor",
   "metadata": {
    "scrolled": true
   },
   "outputs": [
    {
     "data": {
      "application/vnd.plotly.v1+json": {
       "config": {
        "plotlyServerURL": "https://plot.ly"
       },
       "data": [
        {
         "hovertemplate": "symbol=3823<br>r=%{r}<br>business_unit=%{marker.color}<br>size=%{marker.size}<extra></extra>",
         "legendgroup": "3823",
         "marker": {
          "color": [
           1
          ],
          "coloraxis": "coloraxis",
          "size": [
           3823
          ],
          "sizemode": "area",
          "sizeref": 9.5575,
          "symbol": "circle"
         },
         "mode": "markers",
         "name": "3823",
         "r": [
          3823
         ],
         "showlegend": true,
         "subplot": "polar",
         "theta": [
          1
         ],
         "type": "scatterpolar"
        },
        {
         "hovertemplate": "symbol=2066<br>r=%{r}<br>business_unit=%{marker.color}<br>size=%{marker.size}<extra></extra>",
         "legendgroup": "2066",
         "marker": {
          "color": [
           2
          ],
          "coloraxis": "coloraxis",
          "size": [
           2066
          ],
          "sizemode": "area",
          "sizeref": 9.5575,
          "symbol": "diamond"
         },
         "mode": "markers",
         "name": "2066",
         "r": [
          2066
         ],
         "showlegend": true,
         "subplot": "polar",
         "theta": [
          2
         ],
         "type": "scatterpolar"
        },
        {
         "hovertemplate": "symbol=2278<br>r=%{r}<br>business_unit=%{marker.color}<br>size=%{marker.size}<extra></extra>",
         "legendgroup": "2278",
         "marker": {
          "color": [
           11
          ],
          "coloraxis": "coloraxis",
          "size": [
           2278
          ],
          "sizemode": "area",
          "sizeref": 9.5575,
          "symbol": "square"
         },
         "mode": "markers",
         "name": "2278",
         "r": [
          2278
         ],
         "showlegend": true,
         "subplot": "polar",
         "theta": [
          11
         ],
         "type": "scatterpolar"
        },
        {
         "hovertemplate": "symbol=1095<br>r=%{r}<br>business_unit=%{marker.color}<br>size=%{marker.size}<extra></extra>",
         "legendgroup": "1095",
         "marker": {
          "color": [
           12
          ],
          "coloraxis": "coloraxis",
          "size": [
           1095
          ],
          "sizemode": "area",
          "sizeref": 9.5575,
          "symbol": "x"
         },
         "mode": "markers",
         "name": "1095",
         "r": [
          1095
         ],
         "showlegend": true,
         "subplot": "polar",
         "theta": [
          12
         ],
         "type": "scatterpolar"
        },
        {
         "hovertemplate": "symbol=337<br>r=%{r}<br>business_unit=%{marker.color}<br>size=%{marker.size}<extra></extra>",
         "legendgroup": "337",
         "marker": {
          "color": [
           29
          ],
          "coloraxis": "coloraxis",
          "size": [
           337
          ],
          "sizemode": "area",
          "sizeref": 9.5575,
          "symbol": "cross"
         },
         "mode": "markers",
         "name": "337",
         "r": [
          337
         ],
         "showlegend": true,
         "subplot": "polar",
         "theta": [
          29
         ],
         "type": "scatterpolar"
        },
        {
         "hovertemplate": "symbol=365<br>r=%{r}<br>business_unit=%{marker.color}<br>size=%{marker.size}<extra></extra>",
         "legendgroup": "365",
         "marker": {
          "color": [
           36
          ],
          "coloraxis": "coloraxis",
          "size": [
           365
          ],
          "sizemode": "area",
          "sizeref": 9.5575,
          "symbol": "circle"
         },
         "mode": "markers",
         "name": "365",
         "r": [
          365
         ],
         "showlegend": true,
         "subplot": "polar",
         "theta": [
          36
         ],
         "type": "scatterpolar"
        },
        {
         "hovertemplate": "symbol=23<br>r=%{r}<br>business_unit=%{marker.color}<br>size=%{marker.size}<extra></extra>",
         "legendgroup": "23",
         "marker": {
          "color": [
           46
          ],
          "coloraxis": "coloraxis",
          "size": [
           23
          ],
          "sizemode": "area",
          "sizeref": 9.5575,
          "symbol": "diamond"
         },
         "mode": "markers",
         "name": "23",
         "r": [
          23
         ],
         "showlegend": true,
         "subplot": "polar",
         "theta": [
          46
         ],
         "type": "scatterpolar"
        },
        {
         "hovertemplate": "symbol=13<br>r=%{r}<br>business_unit=%{marker.color}<br>size=%{marker.size}<extra></extra>",
         "legendgroup": "13",
         "marker": {
          "color": [
           55
          ],
          "coloraxis": "coloraxis",
          "size": [
           13
          ],
          "sizemode": "area",
          "sizeref": 9.5575,
          "symbol": "square"
         },
         "mode": "markers",
         "name": "13",
         "r": [
          13
         ],
         "showlegend": true,
         "subplot": "polar",
         "theta": [
          55
         ],
         "type": "scatterpolar"
        }
       ],
       "layout": {
        "coloraxis": {
         "colorbar": {
          "title": {
           "text": "business_unit"
          }
         },
         "colorscale": [
          [
           0,
           "#0d0887"
          ],
          [
           0.1111111111111111,
           "#46039f"
          ],
          [
           0.2222222222222222,
           "#7201a8"
          ],
          [
           0.3333333333333333,
           "#9c179e"
          ],
          [
           0.4444444444444444,
           "#bd3786"
          ],
          [
           0.5555555555555556,
           "#d8576b"
          ],
          [
           0.6666666666666666,
           "#ed7953"
          ],
          [
           0.7777777777777778,
           "#fb9f3a"
          ],
          [
           0.8888888888888888,
           "#fdca26"
          ],
          [
           1,
           "#f0f921"
          ]
         ]
        },
        "legend": {
         "itemsizing": "constant",
         "title": {
          "text": "symbol"
         },
         "tracegroupgap": 0
        },
        "polar": {
         "angularaxis": {
          "direction": "clockwise",
          "rotation": 90
         },
         "domain": {
          "x": [
           0,
           1
          ],
          "y": [
           0,
           1
          ]
         }
        },
        "template": {
         "data": {
          "bar": [
           {
            "error_x": {
             "color": "#2a3f5f"
            },
            "error_y": {
             "color": "#2a3f5f"
            },
            "marker": {
             "line": {
              "color": "#E5ECF6",
              "width": 0.5
             }
            },
            "type": "bar"
           }
          ],
          "barpolar": [
           {
            "marker": {
             "line": {
              "color": "#E5ECF6",
              "width": 0.5
             }
            },
            "type": "barpolar"
           }
          ],
          "carpet": [
           {
            "aaxis": {
             "endlinecolor": "#2a3f5f",
             "gridcolor": "white",
             "linecolor": "white",
             "minorgridcolor": "white",
             "startlinecolor": "#2a3f5f"
            },
            "baxis": {
             "endlinecolor": "#2a3f5f",
             "gridcolor": "white",
             "linecolor": "white",
             "minorgridcolor": "white",
             "startlinecolor": "#2a3f5f"
            },
            "type": "carpet"
           }
          ],
          "choropleth": [
           {
            "colorbar": {
             "outlinewidth": 0,
             "ticks": ""
            },
            "type": "choropleth"
           }
          ],
          "contour": [
           {
            "colorbar": {
             "outlinewidth": 0,
             "ticks": ""
            },
            "colorscale": [
             [
              0,
              "#0d0887"
             ],
             [
              0.1111111111111111,
              "#46039f"
             ],
             [
              0.2222222222222222,
              "#7201a8"
             ],
             [
              0.3333333333333333,
              "#9c179e"
             ],
             [
              0.4444444444444444,
              "#bd3786"
             ],
             [
              0.5555555555555556,
              "#d8576b"
             ],
             [
              0.6666666666666666,
              "#ed7953"
             ],
             [
              0.7777777777777778,
              "#fb9f3a"
             ],
             [
              0.8888888888888888,
              "#fdca26"
             ],
             [
              1,
              "#f0f921"
             ]
            ],
            "type": "contour"
           }
          ],
          "contourcarpet": [
           {
            "colorbar": {
             "outlinewidth": 0,
             "ticks": ""
            },
            "type": "contourcarpet"
           }
          ],
          "heatmap": [
           {
            "colorbar": {
             "outlinewidth": 0,
             "ticks": ""
            },
            "colorscale": [
             [
              0,
              "#0d0887"
             ],
             [
              0.1111111111111111,
              "#46039f"
             ],
             [
              0.2222222222222222,
              "#7201a8"
             ],
             [
              0.3333333333333333,
              "#9c179e"
             ],
             [
              0.4444444444444444,
              "#bd3786"
             ],
             [
              0.5555555555555556,
              "#d8576b"
             ],
             [
              0.6666666666666666,
              "#ed7953"
             ],
             [
              0.7777777777777778,
              "#fb9f3a"
             ],
             [
              0.8888888888888888,
              "#fdca26"
             ],
             [
              1,
              "#f0f921"
             ]
            ],
            "type": "heatmap"
           }
          ],
          "heatmapgl": [
           {
            "colorbar": {
             "outlinewidth": 0,
             "ticks": ""
            },
            "colorscale": [
             [
              0,
              "#0d0887"
             ],
             [
              0.1111111111111111,
              "#46039f"
             ],
             [
              0.2222222222222222,
              "#7201a8"
             ],
             [
              0.3333333333333333,
              "#9c179e"
             ],
             [
              0.4444444444444444,
              "#bd3786"
             ],
             [
              0.5555555555555556,
              "#d8576b"
             ],
             [
              0.6666666666666666,
              "#ed7953"
             ],
             [
              0.7777777777777778,
              "#fb9f3a"
             ],
             [
              0.8888888888888888,
              "#fdca26"
             ],
             [
              1,
              "#f0f921"
             ]
            ],
            "type": "heatmapgl"
           }
          ],
          "histogram": [
           {
            "marker": {
             "colorbar": {
              "outlinewidth": 0,
              "ticks": ""
             }
            },
            "type": "histogram"
           }
          ],
          "histogram2d": [
           {
            "colorbar": {
             "outlinewidth": 0,
             "ticks": ""
            },
            "colorscale": [
             [
              0,
              "#0d0887"
             ],
             [
              0.1111111111111111,
              "#46039f"
             ],
             [
              0.2222222222222222,
              "#7201a8"
             ],
             [
              0.3333333333333333,
              "#9c179e"
             ],
             [
              0.4444444444444444,
              "#bd3786"
             ],
             [
              0.5555555555555556,
              "#d8576b"
             ],
             [
              0.6666666666666666,
              "#ed7953"
             ],
             [
              0.7777777777777778,
              "#fb9f3a"
             ],
             [
              0.8888888888888888,
              "#fdca26"
             ],
             [
              1,
              "#f0f921"
             ]
            ],
            "type": "histogram2d"
           }
          ],
          "histogram2dcontour": [
           {
            "colorbar": {
             "outlinewidth": 0,
             "ticks": ""
            },
            "colorscale": [
             [
              0,
              "#0d0887"
             ],
             [
              0.1111111111111111,
              "#46039f"
             ],
             [
              0.2222222222222222,
              "#7201a8"
             ],
             [
              0.3333333333333333,
              "#9c179e"
             ],
             [
              0.4444444444444444,
              "#bd3786"
             ],
             [
              0.5555555555555556,
              "#d8576b"
             ],
             [
              0.6666666666666666,
              "#ed7953"
             ],
             [
              0.7777777777777778,
              "#fb9f3a"
             ],
             [
              0.8888888888888888,
              "#fdca26"
             ],
             [
              1,
              "#f0f921"
             ]
            ],
            "type": "histogram2dcontour"
           }
          ],
          "mesh3d": [
           {
            "colorbar": {
             "outlinewidth": 0,
             "ticks": ""
            },
            "type": "mesh3d"
           }
          ],
          "parcoords": [
           {
            "line": {
             "colorbar": {
              "outlinewidth": 0,
              "ticks": ""
             }
            },
            "type": "parcoords"
           }
          ],
          "pie": [
           {
            "automargin": true,
            "type": "pie"
           }
          ],
          "scatter": [
           {
            "marker": {
             "colorbar": {
              "outlinewidth": 0,
              "ticks": ""
             }
            },
            "type": "scatter"
           }
          ],
          "scatter3d": [
           {
            "line": {
             "colorbar": {
              "outlinewidth": 0,
              "ticks": ""
             }
            },
            "marker": {
             "colorbar": {
              "outlinewidth": 0,
              "ticks": ""
             }
            },
            "type": "scatter3d"
           }
          ],
          "scattercarpet": [
           {
            "marker": {
             "colorbar": {
              "outlinewidth": 0,
              "ticks": ""
             }
            },
            "type": "scattercarpet"
           }
          ],
          "scattergeo": [
           {
            "marker": {
             "colorbar": {
              "outlinewidth": 0,
              "ticks": ""
             }
            },
            "type": "scattergeo"
           }
          ],
          "scattergl": [
           {
            "marker": {
             "colorbar": {
              "outlinewidth": 0,
              "ticks": ""
             }
            },
            "type": "scattergl"
           }
          ],
          "scattermapbox": [
           {
            "marker": {
             "colorbar": {
              "outlinewidth": 0,
              "ticks": ""
             }
            },
            "type": "scattermapbox"
           }
          ],
          "scatterpolar": [
           {
            "marker": {
             "colorbar": {
              "outlinewidth": 0,
              "ticks": ""
             }
            },
            "type": "scatterpolar"
           }
          ],
          "scatterpolargl": [
           {
            "marker": {
             "colorbar": {
              "outlinewidth": 0,
              "ticks": ""
             }
            },
            "type": "scatterpolargl"
           }
          ],
          "scatterternary": [
           {
            "marker": {
             "colorbar": {
              "outlinewidth": 0,
              "ticks": ""
             }
            },
            "type": "scatterternary"
           }
          ],
          "surface": [
           {
            "colorbar": {
             "outlinewidth": 0,
             "ticks": ""
            },
            "colorscale": [
             [
              0,
              "#0d0887"
             ],
             [
              0.1111111111111111,
              "#46039f"
             ],
             [
              0.2222222222222222,
              "#7201a8"
             ],
             [
              0.3333333333333333,
              "#9c179e"
             ],
             [
              0.4444444444444444,
              "#bd3786"
             ],
             [
              0.5555555555555556,
              "#d8576b"
             ],
             [
              0.6666666666666666,
              "#ed7953"
             ],
             [
              0.7777777777777778,
              "#fb9f3a"
             ],
             [
              0.8888888888888888,
              "#fdca26"
             ],
             [
              1,
              "#f0f921"
             ]
            ],
            "type": "surface"
           }
          ],
          "table": [
           {
            "cells": {
             "fill": {
              "color": "#EBF0F8"
             },
             "line": {
              "color": "white"
             }
            },
            "header": {
             "fill": {
              "color": "#C8D4E3"
             },
             "line": {
              "color": "white"
             }
            },
            "type": "table"
           }
          ]
         },
         "layout": {
          "annotationdefaults": {
           "arrowcolor": "#2a3f5f",
           "arrowhead": 0,
           "arrowwidth": 1
          },
          "autotypenumbers": "strict",
          "coloraxis": {
           "colorbar": {
            "outlinewidth": 0,
            "ticks": ""
           }
          },
          "colorscale": {
           "diverging": [
            [
             0,
             "#8e0152"
            ],
            [
             0.1,
             "#c51b7d"
            ],
            [
             0.2,
             "#de77ae"
            ],
            [
             0.3,
             "#f1b6da"
            ],
            [
             0.4,
             "#fde0ef"
            ],
            [
             0.5,
             "#f7f7f7"
            ],
            [
             0.6,
             "#e6f5d0"
            ],
            [
             0.7,
             "#b8e186"
            ],
            [
             0.8,
             "#7fbc41"
            ],
            [
             0.9,
             "#4d9221"
            ],
            [
             1,
             "#276419"
            ]
           ],
           "sequential": [
            [
             0,
             "#0d0887"
            ],
            [
             0.1111111111111111,
             "#46039f"
            ],
            [
             0.2222222222222222,
             "#7201a8"
            ],
            [
             0.3333333333333333,
             "#9c179e"
            ],
            [
             0.4444444444444444,
             "#bd3786"
            ],
            [
             0.5555555555555556,
             "#d8576b"
            ],
            [
             0.6666666666666666,
             "#ed7953"
            ],
            [
             0.7777777777777778,
             "#fb9f3a"
            ],
            [
             0.8888888888888888,
             "#fdca26"
            ],
            [
             1,
             "#f0f921"
            ]
           ],
           "sequentialminus": [
            [
             0,
             "#0d0887"
            ],
            [
             0.1111111111111111,
             "#46039f"
            ],
            [
             0.2222222222222222,
             "#7201a8"
            ],
            [
             0.3333333333333333,
             "#9c179e"
            ],
            [
             0.4444444444444444,
             "#bd3786"
            ],
            [
             0.5555555555555556,
             "#d8576b"
            ],
            [
             0.6666666666666666,
             "#ed7953"
            ],
            [
             0.7777777777777778,
             "#fb9f3a"
            ],
            [
             0.8888888888888888,
             "#fdca26"
            ],
            [
             1,
             "#f0f921"
            ]
           ]
          },
          "colorway": [
           "#636efa",
           "#EF553B",
           "#00cc96",
           "#ab63fa",
           "#FFA15A",
           "#19d3f3",
           "#FF6692",
           "#B6E880",
           "#FF97FF",
           "#FECB52"
          ],
          "font": {
           "color": "#2a3f5f"
          },
          "geo": {
           "bgcolor": "white",
           "lakecolor": "white",
           "landcolor": "#E5ECF6",
           "showlakes": true,
           "showland": true,
           "subunitcolor": "white"
          },
          "hoverlabel": {
           "align": "left"
          },
          "hovermode": "closest",
          "mapbox": {
           "style": "light"
          },
          "paper_bgcolor": "white",
          "plot_bgcolor": "#E5ECF6",
          "polar": {
           "angularaxis": {
            "gridcolor": "white",
            "linecolor": "white",
            "ticks": ""
           },
           "bgcolor": "#E5ECF6",
           "radialaxis": {
            "gridcolor": "white",
            "linecolor": "white",
            "ticks": ""
           }
          },
          "scene": {
           "xaxis": {
            "backgroundcolor": "#E5ECF6",
            "gridcolor": "white",
            "gridwidth": 2,
            "linecolor": "white",
            "showbackground": true,
            "ticks": "",
            "zerolinecolor": "white"
           },
           "yaxis": {
            "backgroundcolor": "#E5ECF6",
            "gridcolor": "white",
            "gridwidth": 2,
            "linecolor": "white",
            "showbackground": true,
            "ticks": "",
            "zerolinecolor": "white"
           },
           "zaxis": {
            "backgroundcolor": "#E5ECF6",
            "gridcolor": "white",
            "gridwidth": 2,
            "linecolor": "white",
            "showbackground": true,
            "ticks": "",
            "zerolinecolor": "white"
           }
          },
          "shapedefaults": {
           "line": {
            "color": "#2a3f5f"
           }
          },
          "ternary": {
           "aaxis": {
            "gridcolor": "white",
            "linecolor": "white",
            "ticks": ""
           },
           "baxis": {
            "gridcolor": "white",
            "linecolor": "white",
            "ticks": ""
           },
           "bgcolor": "#E5ECF6",
           "caxis": {
            "gridcolor": "white",
            "linecolor": "white",
            "ticks": ""
           }
          },
          "title": {
           "x": 0.05
          },
          "xaxis": {
           "automargin": true,
           "gridcolor": "white",
           "linecolor": "white",
           "ticks": "",
           "title": {
            "standoff": 15
           },
           "zerolinecolor": "white",
           "zerolinewidth": 2
          },
          "yaxis": {
           "automargin": true,
           "gridcolor": "white",
           "linecolor": "white",
           "ticks": "",
           "title": {
            "standoff": 15
           },
           "zerolinecolor": "white",
           "zerolinewidth": 2
          }
         }
        },
        "title": {
         "text": "business_unit"
        }
       }
      },
      "text/html": [
       "<div>                            <div id=\"26f9d4b6-333d-49a6-9a81-ae1dbb94c29b\" class=\"plotly-graph-div\" style=\"height:525px; width:100%;\"></div>            <script type=\"text/javascript\">                require([\"plotly\"], function(Plotly) {                    window.PLOTLYENV=window.PLOTLYENV || {};                                    if (document.getElementById(\"26f9d4b6-333d-49a6-9a81-ae1dbb94c29b\")) {                    Plotly.newPlot(                        \"26f9d4b6-333d-49a6-9a81-ae1dbb94c29b\",                        [{\"hovertemplate\": \"symbol=3823<br>r=%{r}<br>business_unit=%{marker.color}<br>size=%{marker.size}<extra></extra>\", \"legendgroup\": \"3823\", \"marker\": {\"color\": [1], \"coloraxis\": \"coloraxis\", \"size\": [3823], \"sizemode\": \"area\", \"sizeref\": 9.5575, \"symbol\": \"circle\"}, \"mode\": \"markers\", \"name\": \"3823\", \"r\": [3823], \"showlegend\": true, \"subplot\": \"polar\", \"theta\": [1], \"type\": \"scatterpolar\"}, {\"hovertemplate\": \"symbol=2066<br>r=%{r}<br>business_unit=%{marker.color}<br>size=%{marker.size}<extra></extra>\", \"legendgroup\": \"2066\", \"marker\": {\"color\": [2], \"coloraxis\": \"coloraxis\", \"size\": [2066], \"sizemode\": \"area\", \"sizeref\": 9.5575, \"symbol\": \"diamond\"}, \"mode\": \"markers\", \"name\": \"2066\", \"r\": [2066], \"showlegend\": true, \"subplot\": \"polar\", \"theta\": [2], \"type\": \"scatterpolar\"}, {\"hovertemplate\": \"symbol=2278<br>r=%{r}<br>business_unit=%{marker.color}<br>size=%{marker.size}<extra></extra>\", \"legendgroup\": \"2278\", \"marker\": {\"color\": [11], \"coloraxis\": \"coloraxis\", \"size\": [2278], \"sizemode\": \"area\", \"sizeref\": 9.5575, \"symbol\": \"square\"}, \"mode\": \"markers\", \"name\": \"2278\", \"r\": [2278], \"showlegend\": true, \"subplot\": \"polar\", \"theta\": [11], \"type\": \"scatterpolar\"}, {\"hovertemplate\": \"symbol=1095<br>r=%{r}<br>business_unit=%{marker.color}<br>size=%{marker.size}<extra></extra>\", \"legendgroup\": \"1095\", \"marker\": {\"color\": [12], \"coloraxis\": \"coloraxis\", \"size\": [1095], \"sizemode\": \"area\", \"sizeref\": 9.5575, \"symbol\": \"x\"}, \"mode\": \"markers\", \"name\": \"1095\", \"r\": [1095], \"showlegend\": true, \"subplot\": \"polar\", \"theta\": [12], \"type\": \"scatterpolar\"}, {\"hovertemplate\": \"symbol=337<br>r=%{r}<br>business_unit=%{marker.color}<br>size=%{marker.size}<extra></extra>\", \"legendgroup\": \"337\", \"marker\": {\"color\": [29], \"coloraxis\": \"coloraxis\", \"size\": [337], \"sizemode\": \"area\", \"sizeref\": 9.5575, \"symbol\": \"cross\"}, \"mode\": \"markers\", \"name\": \"337\", \"r\": [337], \"showlegend\": true, \"subplot\": \"polar\", \"theta\": [29], \"type\": \"scatterpolar\"}, {\"hovertemplate\": \"symbol=365<br>r=%{r}<br>business_unit=%{marker.color}<br>size=%{marker.size}<extra></extra>\", \"legendgroup\": \"365\", \"marker\": {\"color\": [36], \"coloraxis\": \"coloraxis\", \"size\": [365], \"sizemode\": \"area\", \"sizeref\": 9.5575, \"symbol\": \"circle\"}, \"mode\": \"markers\", \"name\": \"365\", \"r\": [365], \"showlegend\": true, \"subplot\": \"polar\", \"theta\": [36], \"type\": \"scatterpolar\"}, {\"hovertemplate\": \"symbol=23<br>r=%{r}<br>business_unit=%{marker.color}<br>size=%{marker.size}<extra></extra>\", \"legendgroup\": \"23\", \"marker\": {\"color\": [46], \"coloraxis\": \"coloraxis\", \"size\": [23], \"sizemode\": \"area\", \"sizeref\": 9.5575, \"symbol\": \"diamond\"}, \"mode\": \"markers\", \"name\": \"23\", \"r\": [23], \"showlegend\": true, \"subplot\": \"polar\", \"theta\": [46], \"type\": \"scatterpolar\"}, {\"hovertemplate\": \"symbol=13<br>r=%{r}<br>business_unit=%{marker.color}<br>size=%{marker.size}<extra></extra>\", \"legendgroup\": \"13\", \"marker\": {\"color\": [55], \"coloraxis\": \"coloraxis\", \"size\": [13], \"sizemode\": \"area\", \"sizeref\": 9.5575, \"symbol\": \"square\"}, \"mode\": \"markers\", \"name\": \"13\", \"r\": [13], \"showlegend\": true, \"subplot\": \"polar\", \"theta\": [55], \"type\": \"scatterpolar\"}],                        {\"coloraxis\": {\"colorbar\": {\"title\": {\"text\": \"business_unit\"}}, \"colorscale\": [[0.0, \"#0d0887\"], [0.1111111111111111, \"#46039f\"], [0.2222222222222222, \"#7201a8\"], [0.3333333333333333, \"#9c179e\"], [0.4444444444444444, \"#bd3786\"], [0.5555555555555556, \"#d8576b\"], [0.6666666666666666, \"#ed7953\"], [0.7777777777777778, \"#fb9f3a\"], [0.8888888888888888, \"#fdca26\"], [1.0, \"#f0f921\"]]}, \"legend\": {\"itemsizing\": \"constant\", \"title\": {\"text\": \"symbol\"}, \"tracegroupgap\": 0}, \"polar\": {\"angularaxis\": {\"direction\": \"clockwise\", \"rotation\": 90}, \"domain\": {\"x\": [0.0, 1.0], \"y\": [0.0, 1.0]}}, \"template\": {\"data\": {\"bar\": [{\"error_x\": {\"color\": \"#2a3f5f\"}, \"error_y\": {\"color\": \"#2a3f5f\"}, \"marker\": {\"line\": {\"color\": \"#E5ECF6\", \"width\": 0.5}}, \"type\": \"bar\"}], \"barpolar\": [{\"marker\": {\"line\": {\"color\": \"#E5ECF6\", \"width\": 0.5}}, \"type\": \"barpolar\"}], \"carpet\": [{\"aaxis\": {\"endlinecolor\": \"#2a3f5f\", \"gridcolor\": \"white\", \"linecolor\": \"white\", \"minorgridcolor\": \"white\", \"startlinecolor\": \"#2a3f5f\"}, \"baxis\": {\"endlinecolor\": \"#2a3f5f\", \"gridcolor\": \"white\", \"linecolor\": \"white\", \"minorgridcolor\": \"white\", \"startlinecolor\": \"#2a3f5f\"}, \"type\": \"carpet\"}], \"choropleth\": [{\"colorbar\": {\"outlinewidth\": 0, \"ticks\": \"\"}, \"type\": \"choropleth\"}], \"contour\": [{\"colorbar\": {\"outlinewidth\": 0, \"ticks\": \"\"}, \"colorscale\": [[0.0, \"#0d0887\"], [0.1111111111111111, \"#46039f\"], [0.2222222222222222, \"#7201a8\"], [0.3333333333333333, \"#9c179e\"], [0.4444444444444444, \"#bd3786\"], [0.5555555555555556, \"#d8576b\"], [0.6666666666666666, \"#ed7953\"], [0.7777777777777778, \"#fb9f3a\"], [0.8888888888888888, \"#fdca26\"], [1.0, \"#f0f921\"]], \"type\": \"contour\"}], \"contourcarpet\": [{\"colorbar\": {\"outlinewidth\": 0, \"ticks\": \"\"}, \"type\": \"contourcarpet\"}], \"heatmap\": [{\"colorbar\": {\"outlinewidth\": 0, \"ticks\": \"\"}, \"colorscale\": [[0.0, \"#0d0887\"], [0.1111111111111111, \"#46039f\"], [0.2222222222222222, \"#7201a8\"], [0.3333333333333333, \"#9c179e\"], [0.4444444444444444, \"#bd3786\"], [0.5555555555555556, \"#d8576b\"], [0.6666666666666666, \"#ed7953\"], [0.7777777777777778, \"#fb9f3a\"], [0.8888888888888888, \"#fdca26\"], [1.0, \"#f0f921\"]], \"type\": \"heatmap\"}], \"heatmapgl\": [{\"colorbar\": {\"outlinewidth\": 0, \"ticks\": \"\"}, \"colorscale\": [[0.0, \"#0d0887\"], [0.1111111111111111, \"#46039f\"], [0.2222222222222222, \"#7201a8\"], [0.3333333333333333, \"#9c179e\"], [0.4444444444444444, \"#bd3786\"], [0.5555555555555556, \"#d8576b\"], [0.6666666666666666, \"#ed7953\"], [0.7777777777777778, \"#fb9f3a\"], [0.8888888888888888, \"#fdca26\"], [1.0, \"#f0f921\"]], \"type\": \"heatmapgl\"}], \"histogram\": [{\"marker\": {\"colorbar\": {\"outlinewidth\": 0, \"ticks\": \"\"}}, \"type\": \"histogram\"}], \"histogram2d\": [{\"colorbar\": {\"outlinewidth\": 0, \"ticks\": \"\"}, \"colorscale\": [[0.0, \"#0d0887\"], [0.1111111111111111, \"#46039f\"], [0.2222222222222222, \"#7201a8\"], [0.3333333333333333, \"#9c179e\"], [0.4444444444444444, \"#bd3786\"], [0.5555555555555556, \"#d8576b\"], [0.6666666666666666, \"#ed7953\"], [0.7777777777777778, \"#fb9f3a\"], [0.8888888888888888, \"#fdca26\"], [1.0, \"#f0f921\"]], \"type\": \"histogram2d\"}], \"histogram2dcontour\": [{\"colorbar\": {\"outlinewidth\": 0, \"ticks\": \"\"}, \"colorscale\": [[0.0, \"#0d0887\"], [0.1111111111111111, \"#46039f\"], [0.2222222222222222, \"#7201a8\"], [0.3333333333333333, \"#9c179e\"], [0.4444444444444444, \"#bd3786\"], [0.5555555555555556, \"#d8576b\"], [0.6666666666666666, \"#ed7953\"], [0.7777777777777778, \"#fb9f3a\"], [0.8888888888888888, \"#fdca26\"], [1.0, \"#f0f921\"]], \"type\": \"histogram2dcontour\"}], \"mesh3d\": [{\"colorbar\": {\"outlinewidth\": 0, \"ticks\": \"\"}, \"type\": \"mesh3d\"}], \"parcoords\": [{\"line\": {\"colorbar\": {\"outlinewidth\": 0, \"ticks\": \"\"}}, \"type\": \"parcoords\"}], \"pie\": [{\"automargin\": true, \"type\": \"pie\"}], \"scatter\": [{\"marker\": {\"colorbar\": {\"outlinewidth\": 0, \"ticks\": \"\"}}, \"type\": \"scatter\"}], \"scatter3d\": [{\"line\": {\"colorbar\": {\"outlinewidth\": 0, \"ticks\": \"\"}}, \"marker\": {\"colorbar\": {\"outlinewidth\": 0, \"ticks\": \"\"}}, \"type\": \"scatter3d\"}], \"scattercarpet\": [{\"marker\": {\"colorbar\": {\"outlinewidth\": 0, \"ticks\": \"\"}}, \"type\": \"scattercarpet\"}], \"scattergeo\": [{\"marker\": {\"colorbar\": {\"outlinewidth\": 0, \"ticks\": \"\"}}, \"type\": \"scattergeo\"}], \"scattergl\": [{\"marker\": {\"colorbar\": {\"outlinewidth\": 0, \"ticks\": \"\"}}, \"type\": \"scattergl\"}], \"scattermapbox\": [{\"marker\": {\"colorbar\": {\"outlinewidth\": 0, \"ticks\": \"\"}}, \"type\": \"scattermapbox\"}], \"scatterpolar\": [{\"marker\": {\"colorbar\": {\"outlinewidth\": 0, \"ticks\": \"\"}}, \"type\": \"scatterpolar\"}], \"scatterpolargl\": [{\"marker\": {\"colorbar\": {\"outlinewidth\": 0, \"ticks\": \"\"}}, \"type\": \"scatterpolargl\"}], \"scatterternary\": [{\"marker\": {\"colorbar\": {\"outlinewidth\": 0, \"ticks\": \"\"}}, \"type\": \"scatterternary\"}], \"surface\": [{\"colorbar\": {\"outlinewidth\": 0, \"ticks\": \"\"}, \"colorscale\": [[0.0, \"#0d0887\"], [0.1111111111111111, \"#46039f\"], [0.2222222222222222, \"#7201a8\"], [0.3333333333333333, \"#9c179e\"], [0.4444444444444444, \"#bd3786\"], [0.5555555555555556, \"#d8576b\"], [0.6666666666666666, \"#ed7953\"], [0.7777777777777778, \"#fb9f3a\"], [0.8888888888888888, \"#fdca26\"], [1.0, \"#f0f921\"]], \"type\": \"surface\"}], \"table\": [{\"cells\": {\"fill\": {\"color\": \"#EBF0F8\"}, \"line\": {\"color\": \"white\"}}, \"header\": {\"fill\": {\"color\": \"#C8D4E3\"}, \"line\": {\"color\": \"white\"}}, \"type\": \"table\"}]}, \"layout\": {\"annotationdefaults\": {\"arrowcolor\": \"#2a3f5f\", \"arrowhead\": 0, \"arrowwidth\": 1}, \"autotypenumbers\": \"strict\", \"coloraxis\": {\"colorbar\": {\"outlinewidth\": 0, \"ticks\": \"\"}}, \"colorscale\": {\"diverging\": [[0, \"#8e0152\"], [0.1, \"#c51b7d\"], [0.2, \"#de77ae\"], [0.3, \"#f1b6da\"], [0.4, \"#fde0ef\"], [0.5, \"#f7f7f7\"], [0.6, \"#e6f5d0\"], [0.7, \"#b8e186\"], [0.8, \"#7fbc41\"], [0.9, \"#4d9221\"], [1, \"#276419\"]], \"sequential\": [[0.0, \"#0d0887\"], [0.1111111111111111, \"#46039f\"], [0.2222222222222222, \"#7201a8\"], [0.3333333333333333, \"#9c179e\"], [0.4444444444444444, \"#bd3786\"], [0.5555555555555556, \"#d8576b\"], [0.6666666666666666, \"#ed7953\"], [0.7777777777777778, \"#fb9f3a\"], [0.8888888888888888, \"#fdca26\"], [1.0, \"#f0f921\"]], \"sequentialminus\": [[0.0, \"#0d0887\"], [0.1111111111111111, \"#46039f\"], [0.2222222222222222, \"#7201a8\"], [0.3333333333333333, \"#9c179e\"], [0.4444444444444444, \"#bd3786\"], [0.5555555555555556, \"#d8576b\"], [0.6666666666666666, \"#ed7953\"], [0.7777777777777778, \"#fb9f3a\"], [0.8888888888888888, \"#fdca26\"], [1.0, \"#f0f921\"]]}, \"colorway\": [\"#636efa\", \"#EF553B\", \"#00cc96\", \"#ab63fa\", \"#FFA15A\", \"#19d3f3\", \"#FF6692\", \"#B6E880\", \"#FF97FF\", \"#FECB52\"], \"font\": {\"color\": \"#2a3f5f\"}, \"geo\": {\"bgcolor\": \"white\", \"lakecolor\": \"white\", \"landcolor\": \"#E5ECF6\", \"showlakes\": true, \"showland\": true, \"subunitcolor\": \"white\"}, \"hoverlabel\": {\"align\": \"left\"}, \"hovermode\": \"closest\", \"mapbox\": {\"style\": \"light\"}, \"paper_bgcolor\": \"white\", \"plot_bgcolor\": \"#E5ECF6\", \"polar\": {\"angularaxis\": {\"gridcolor\": \"white\", \"linecolor\": \"white\", \"ticks\": \"\"}, \"bgcolor\": \"#E5ECF6\", \"radialaxis\": {\"gridcolor\": \"white\", \"linecolor\": \"white\", \"ticks\": \"\"}}, \"scene\": {\"xaxis\": {\"backgroundcolor\": \"#E5ECF6\", \"gridcolor\": \"white\", \"gridwidth\": 2, \"linecolor\": \"white\", \"showbackground\": true, \"ticks\": \"\", \"zerolinecolor\": \"white\"}, \"yaxis\": {\"backgroundcolor\": \"#E5ECF6\", \"gridcolor\": \"white\", \"gridwidth\": 2, \"linecolor\": \"white\", \"showbackground\": true, \"ticks\": \"\", \"zerolinecolor\": \"white\"}, \"zaxis\": {\"backgroundcolor\": \"#E5ECF6\", \"gridcolor\": \"white\", \"gridwidth\": 2, \"linecolor\": \"white\", \"showbackground\": true, \"ticks\": \"\", \"zerolinecolor\": \"white\"}}, \"shapedefaults\": {\"line\": {\"color\": \"#2a3f5f\"}}, \"ternary\": {\"aaxis\": {\"gridcolor\": \"white\", \"linecolor\": \"white\", \"ticks\": \"\"}, \"baxis\": {\"gridcolor\": \"white\", \"linecolor\": \"white\", \"ticks\": \"\"}, \"bgcolor\": \"#E5ECF6\", \"caxis\": {\"gridcolor\": \"white\", \"linecolor\": \"white\", \"ticks\": \"\"}}, \"title\": {\"x\": 0.05}, \"xaxis\": {\"automargin\": true, \"gridcolor\": \"white\", \"linecolor\": \"white\", \"ticks\": \"\", \"title\": {\"standoff\": 15}, \"zerolinecolor\": \"white\", \"zerolinewidth\": 2}, \"yaxis\": {\"automargin\": true, \"gridcolor\": \"white\", \"linecolor\": \"white\", \"ticks\": \"\", \"title\": {\"standoff\": 15}, \"zerolinecolor\": \"white\", \"zerolinewidth\": 2}}}, \"title\": {\"text\": \"business_unit\"}},                        {\"responsive\": true}                    ).then(function(){\n",
       "                            \n",
       "var gd = document.getElementById('26f9d4b6-333d-49a6-9a81-ae1dbb94c29b');\n",
       "var x = new MutationObserver(function (mutations, observer) {{\n",
       "        var display = window.getComputedStyle(gd).display;\n",
       "        if (!display || display === 'none') {{\n",
       "            console.log([gd, 'removed!']);\n",
       "            Plotly.purge(gd);\n",
       "            observer.disconnect();\n",
       "        }}\n",
       "}});\n",
       "\n",
       "// Listen for the removal of the full notebook cells\n",
       "var notebookContainer = gd.closest('#notebook-container');\n",
       "if (notebookContainer) {{\n",
       "    x.observe(notebookContainer, {childList: true});\n",
       "}}\n",
       "\n",
       "// Listen for the clearing of the current output cell\n",
       "var outputEl = gd.closest('.output');\n",
       "if (outputEl) {{\n",
       "    x.observe(outputEl, {childList: true});\n",
       "}}\n",
       "\n",
       "                        })                };                });            </script>        </div>"
      ]
     },
     "metadata": {},
     "output_type": "display_data"
    }
   ],
   "source": [
    "temp = df.groupby(by=\"business_unit\").count()\n",
    "name = temp.new_diagnosis.index\n",
    "val = temp.new_diagnosis.values\n",
    "\n",
    "fig = px.scatter_polar(temp, r=val, theta=name,color=name, symbol=val, \n",
    "                       size=val,color_discrete_sequence=px.colors.sequential.Plasma_r, title='business_unit')\n",
    "fig.show()\n"
   ]
  },
  {
   "cell_type": "markdown",
   "id": "still-feeling",
   "metadata": {},
   "source": [
    "# เตรียม Data"
   ]
  },
  {
   "cell_type": "code",
   "execution_count": 203,
   "id": "modular-willow",
   "metadata": {},
   "outputs": [],
   "source": [
    "data_y = df['business_unit']\n",
    "#df.drop(['new_diagnosis'], inplace=True, axis =1)"
   ]
  },
  {
   "cell_type": "code",
   "execution_count": 204,
   "id": "impressive-discovery",
   "metadata": {
    "scrolled": true
   },
   "outputs": [
    {
     "data": {
      "text/html": [
       "<div>\n",
       "<style scoped>\n",
       "    .dataframe tbody tr th:only-of-type {\n",
       "        vertical-align: middle;\n",
       "    }\n",
       "\n",
       "    .dataframe tbody tr th {\n",
       "        vertical-align: top;\n",
       "    }\n",
       "\n",
       "    .dataframe thead th {\n",
       "        text-align: right;\n",
       "    }\n",
       "</style>\n",
       "<table border=\"1\" class=\"dataframe\">\n",
       "  <thead>\n",
       "    <tr style=\"text-align: right;\">\n",
       "      <th></th>\n",
       "      <th>business_unit</th>\n",
       "      <th>age</th>\n",
       "      <th>gen</th>\n",
       "      <th>new_Province</th>\n",
       "      <th>new_Gender</th>\n",
       "      <th>new_diagnosis</th>\n",
       "      <th>new_City</th>\n",
       "      <th>new_Type</th>\n",
       "    </tr>\n",
       "  </thead>\n",
       "  <tbody>\n",
       "    <tr>\n",
       "      <th>0</th>\n",
       "      <td>36</td>\n",
       "      <td>31</td>\n",
       "      <td>3</td>\n",
       "      <td>133</td>\n",
       "      <td>1</td>\n",
       "      <td>108</td>\n",
       "      <td>362</td>\n",
       "      <td>1</td>\n",
       "    </tr>\n",
       "    <tr>\n",
       "      <th>1</th>\n",
       "      <td>12</td>\n",
       "      <td>9</td>\n",
       "      <td>1</td>\n",
       "      <td>114</td>\n",
       "      <td>1</td>\n",
       "      <td>1209</td>\n",
       "      <td>182</td>\n",
       "      <td>1</td>\n",
       "    </tr>\n",
       "    <tr>\n",
       "      <th>2</th>\n",
       "      <td>1</td>\n",
       "      <td>31</td>\n",
       "      <td>3</td>\n",
       "      <td>62</td>\n",
       "      <td>0</td>\n",
       "      <td>85</td>\n",
       "      <td>122</td>\n",
       "      <td>1</td>\n",
       "    </tr>\n",
       "    <tr>\n",
       "      <th>3</th>\n",
       "      <td>1</td>\n",
       "      <td>13</td>\n",
       "      <td>1</td>\n",
       "      <td>62</td>\n",
       "      <td>1</td>\n",
       "      <td>1943</td>\n",
       "      <td>364</td>\n",
       "      <td>1</td>\n",
       "    </tr>\n",
       "    <tr>\n",
       "      <th>4</th>\n",
       "      <td>12</td>\n",
       "      <td>38</td>\n",
       "      <td>3</td>\n",
       "      <td>114</td>\n",
       "      <td>1</td>\n",
       "      <td>102</td>\n",
       "      <td>182</td>\n",
       "      <td>1</td>\n",
       "    </tr>\n",
       "  </tbody>\n",
       "</table>\n",
       "</div>"
      ],
      "text/plain": [
       "   business_unit  age  gen  new_Province  new_Gender  new_diagnosis  new_City  \\\n",
       "0             36   31    3           133           1            108       362   \n",
       "1             12    9    1           114           1           1209       182   \n",
       "2              1   31    3            62           0             85       122   \n",
       "3              1   13    1            62           1           1943       364   \n",
       "4             12   38    3           114           1            102       182   \n",
       "\n",
       "   new_Type  \n",
       "0         1  \n",
       "1         1  \n",
       "2         1  \n",
       "3         1  \n",
       "4         1  "
      ]
     },
     "execution_count": 204,
     "metadata": {},
     "output_type": "execute_result"
    }
   ],
   "source": [
    "df.head()"
   ]
  },
  {
   "cell_type": "code",
   "execution_count": 205,
   "id": "naked-giving",
   "metadata": {},
   "outputs": [],
   "source": [
    "#data_x = df[['age', 'gen', 'new_Province', 'new_Gender','new_diagnosis', 'new_Type']]\n",
    "data_x = df[['age', 'gen', 'new_Province', 'new_Gender','new_diagnosis', 'new_Type']]"
   ]
  },
  {
   "cell_type": "code",
   "execution_count": 206,
   "id": "sought-skirt",
   "metadata": {},
   "outputs": [
    {
     "data": {
      "text/html": [
       "<div>\n",
       "<style scoped>\n",
       "    .dataframe tbody tr th:only-of-type {\n",
       "        vertical-align: middle;\n",
       "    }\n",
       "\n",
       "    .dataframe tbody tr th {\n",
       "        vertical-align: top;\n",
       "    }\n",
       "\n",
       "    .dataframe thead th {\n",
       "        text-align: right;\n",
       "    }\n",
       "</style>\n",
       "<table border=\"1\" class=\"dataframe\">\n",
       "  <thead>\n",
       "    <tr style=\"text-align: right;\">\n",
       "      <th></th>\n",
       "      <th>age</th>\n",
       "      <th>gen</th>\n",
       "      <th>new_Province</th>\n",
       "      <th>new_Gender</th>\n",
       "      <th>new_diagnosis</th>\n",
       "      <th>new_Type</th>\n",
       "    </tr>\n",
       "  </thead>\n",
       "  <tbody>\n",
       "    <tr>\n",
       "      <th>0</th>\n",
       "      <td>31</td>\n",
       "      <td>3</td>\n",
       "      <td>133</td>\n",
       "      <td>1</td>\n",
       "      <td>108</td>\n",
       "      <td>1</td>\n",
       "    </tr>\n",
       "    <tr>\n",
       "      <th>1</th>\n",
       "      <td>9</td>\n",
       "      <td>1</td>\n",
       "      <td>114</td>\n",
       "      <td>1</td>\n",
       "      <td>1209</td>\n",
       "      <td>1</td>\n",
       "    </tr>\n",
       "    <tr>\n",
       "      <th>2</th>\n",
       "      <td>31</td>\n",
       "      <td>3</td>\n",
       "      <td>62</td>\n",
       "      <td>0</td>\n",
       "      <td>85</td>\n",
       "      <td>1</td>\n",
       "    </tr>\n",
       "    <tr>\n",
       "      <th>3</th>\n",
       "      <td>13</td>\n",
       "      <td>1</td>\n",
       "      <td>62</td>\n",
       "      <td>1</td>\n",
       "      <td>1943</td>\n",
       "      <td>1</td>\n",
       "    </tr>\n",
       "    <tr>\n",
       "      <th>4</th>\n",
       "      <td>38</td>\n",
       "      <td>3</td>\n",
       "      <td>114</td>\n",
       "      <td>1</td>\n",
       "      <td>102</td>\n",
       "      <td>1</td>\n",
       "    </tr>\n",
       "  </tbody>\n",
       "</table>\n",
       "</div>"
      ],
      "text/plain": [
       "   age  gen  new_Province  new_Gender  new_diagnosis  new_Type\n",
       "0   31    3           133           1            108         1\n",
       "1    9    1           114           1           1209         1\n",
       "2   31    3            62           0             85         1\n",
       "3   13    1            62           1           1943         1\n",
       "4   38    3           114           1            102         1"
      ]
     },
     "execution_count": 206,
     "metadata": {},
     "output_type": "execute_result"
    }
   ],
   "source": [
    "data_x.head()"
   ]
  },
  {
   "cell_type": "code",
   "execution_count": 207,
   "id": "opening-hours",
   "metadata": {},
   "outputs": [],
   "source": [
    "x_train, x_test, y_train, y_test = train_test_split(data_x, data_y, test_size= 1/4, random_state=1)"
   ]
  },
  {
   "cell_type": "markdown",
   "id": "south-expression",
   "metadata": {},
   "source": [
    "# Classifier "
   ]
  },
  {
   "cell_type": "code",
   "execution_count": 208,
   "id": "intellectual-shore",
   "metadata": {},
   "outputs": [],
   "source": [
    "from sklearn.ensemble import RandomForestClassifier\n",
    "from sklearn.pipeline import make_pipeline\n",
    "from sklearn.preprocessing import StandardScaler\n",
    "from sklearn.model_selection import KFold\n",
    "from sklearn.svm import SVC\n",
    "from sklearn.neighbors import KNeighborsClassifier"
   ]
  },
  {
   "cell_type": "code",
   "execution_count": 209,
   "id": "mexican-austria",
   "metadata": {},
   "outputs": [
    {
     "data": {
      "text/plain": [
       "Pipeline(steps=[('standardscaler', StandardScaler()),\n",
       "                ('randomforestclassifier', RandomForestClassifier())])"
      ]
     },
     "execution_count": 209,
     "metadata": {},
     "output_type": "execute_result"
    }
   ],
   "source": [
    "clf = make_pipeline(StandardScaler(), RandomForestClassifier())\n",
    "clf.fit(x_train, y_train)"
   ]
  },
  {
   "cell_type": "markdown",
   "id": "employed-outdoors",
   "metadata": {},
   "source": [
    "# Test ACC"
   ]
  },
  {
   "cell_type": "code",
   "execution_count": 210,
   "id": "accompanied-minneapolis",
   "metadata": {},
   "outputs": [
    {
     "data": {
      "text/plain": [
       "0.7512"
      ]
     },
     "execution_count": 210,
     "metadata": {},
     "output_type": "execute_result"
    }
   ],
   "source": [
    "clf.score(x_test, y_test)"
   ]
  }
 ],
 "metadata": {
  "kernelspec": {
   "display_name": "Python 3",
   "language": "python",
   "name": "python3"
  },
  "language_info": {
   "codemirror_mode": {
    "name": "ipython",
    "version": 3
   },
   "file_extension": ".py",
   "mimetype": "text/x-python",
   "name": "python",
   "nbconvert_exporter": "python",
   "pygments_lexer": "ipython3",
   "version": "3.8.5"
  }
 },
 "nbformat": 4,
 "nbformat_minor": 5
}
